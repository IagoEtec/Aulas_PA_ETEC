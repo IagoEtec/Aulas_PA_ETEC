{
  "nbformat": 4,
  "nbformat_minor": 0,
  "metadata": {
    "colab": {
      "provenance": [],
      "authorship_tag": "ABX9TyMg3C88YNo6DH0i+xS7IY20",
      "include_colab_link": true
    },
    "kernelspec": {
      "name": "python3",
      "display_name": "Python 3"
    },
    "language_info": {
      "name": "python"
    }
  },
  "cells": [
    {
      "cell_type": "markdown",
      "metadata": {
        "id": "view-in-github",
        "colab_type": "text"
      },
      "source": [
        "<a href=\"https://colab.research.google.com/github/IagoEtec/Aulas_PA_ETEC/blob/main/Exemplo.ipynb\" target=\"_parent\"><img src=\"https://colab.research.google.com/assets/colab-badge.svg\" alt=\"Open In Colab\"/></a>"
      ]
    },
    {
      "cell_type": "markdown",
      "source": [
        "# **Exemplo**"
      ],
      "metadata": {
        "id": "V73rPw2eEIIs"
      }
    },
    {
      "cell_type": "code",
      "source": [
        "nome = \"Iago de Almeida Coelho\"\n",
        "idade = 15"
      ],
      "metadata": {
        "id": "kr1-AO9eElSH"
      },
      "execution_count": 1,
      "outputs": []
    },
    {
      "cell_type": "code",
      "source": [
        "print(nome)"
      ],
      "metadata": {
        "colab": {
          "base_uri": "https://localhost:8080/"
        },
        "id": "Xk5mij5sF2QP",
        "outputId": "bbc0703d-44d1-45c5-d82a-cf30f95ca415"
      },
      "execution_count": 5,
      "outputs": [
        {
          "output_type": "stream",
          "name": "stdout",
          "text": [
            "Iago de Almeida Coelho\n"
          ]
        }
      ]
    },
    {
      "cell_type": "code",
      "source": [
        "print(idade)"
      ],
      "metadata": {
        "colab": {
          "base_uri": "https://localhost:8080/"
        },
        "id": "7s3kcclPGd2W",
        "outputId": "f2b7960c-1297-4007-951f-24dd1c0a8eaf"
      },
      "execution_count": 6,
      "outputs": [
        {
          "output_type": "stream",
          "name": "stdout",
          "text": [
            "15\n"
          ]
        }
      ]
    },
    {
      "cell_type": "code",
      "source": [
        "print(\"Seu nome é:\",nome,\"\\n\\nSua idade é:\",idade,\"anos de vida\")"
      ],
      "metadata": {
        "colab": {
          "base_uri": "https://localhost:8080/"
        },
        "id": "5XmGzBYPGrQe",
        "outputId": "a13a8ad2-7d61-4ceb-93d7-0160af008dd5"
      },
      "execution_count": 17,
      "outputs": [
        {
          "output_type": "stream",
          "name": "stdout",
          "text": [
            "Seu nome é: Iago de Almeida Coelho \n",
            "\n",
            "Sua idade é: 15 anos de vida\n"
          ]
        }
      ]
    },
    {
      "cell_type": "markdown",
      "source": [
        "# Operadores Aritimeticos"
      ],
      "metadata": {
        "id": "DMFrRem-JBDA"
      }
    },
    {
      "cell_type": "code",
      "source": [
        "n1 = 7\n",
        "n2 = 8\n",
        "n3 = 10"
      ],
      "metadata": {
        "id": "QtcAJ3XfJQJz"
      },
      "execution_count": 18,
      "outputs": []
    },
    {
      "cell_type": "code",
      "source": [
        "media = (n1+n2+n3)/3\n",
        "print(\"Sua média é:\",media)"
      ],
      "metadata": {
        "colab": {
          "base_uri": "https://localhost:8080/"
        },
        "id": "R9cG9oekJ6Uw",
        "outputId": "8676bdb4-6ac4-4c01-803e-79918377ef54"
      },
      "execution_count": 23,
      "outputs": [
        {
          "output_type": "stream",
          "name": "stdout",
          "text": [
            "Sua média é: 8.333333333333334\n"
          ]
        }
      ]
    },
    {
      "cell_type": "code",
      "source": [
        "round(media,1)"
      ],
      "metadata": {
        "colab": {
          "base_uri": "https://localhost:8080/"
        },
        "id": "P54tKNYdLY_5",
        "outputId": "c1417a7b-e38f-481b-b43e-a29dfdcbea94"
      },
      "execution_count": 25,
      "outputs": [
        {
          "output_type": "execute_result",
          "data": {
            "text/plain": [
              "8.3"
            ]
          },
          "metadata": {},
          "execution_count": 25
        }
      ]
    },
    {
      "cell_type": "code",
      "source": [
        "print(\"Sua média é:\",round(media,1))"
      ],
      "metadata": {
        "colab": {
          "base_uri": "https://localhost:8080/"
        },
        "id": "eF_O9Kk4MLJz",
        "outputId": "db5e9316-52fa-418a-973e-ca569fbb8f76"
      },
      "execution_count": 27,
      "outputs": [
        {
          "output_type": "stream",
          "name": "stdout",
          "text": [
            "Sua média é: 8.3\n"
          ]
        }
      ]
    },
    {
      "cell_type": "code",
      "source": [
        "nome = input(\"Digite seu nome:\")\n",
        "nome"
      ],
      "metadata": {
        "colab": {
          "base_uri": "https://localhost:8080/",
          "height": 53
        },
        "id": "MeSK3HJ0SU5J",
        "outputId": "a7115bce-7c82-4762-8f19-247e777466d8"
      },
      "execution_count": 28,
      "outputs": [
        {
          "name": "stdout",
          "output_type": "stream",
          "text": [
            "Digite seu nome:Iago de Almeida Coelho\n"
          ]
        },
        {
          "output_type": "execute_result",
          "data": {
            "text/plain": [
              "'Iago de Almeida Coelho'"
            ],
            "application/vnd.google.colaboratory.intrinsic+json": {
              "type": "string"
            }
          },
          "metadata": {},
          "execution_count": 28
        }
      ]
    },
    {
      "cell_type": "code",
      "source": [
        "ano_nasc = input(\"Digite seu ano de ncimento:\")\n",
        "ano_nasc"
      ],
      "metadata": {
        "colab": {
          "base_uri": "https://localhost:8080/",
          "height": 53
        },
        "id": "q26In7wmS5NZ",
        "outputId": "7974c5be-ad23-442d-84c7-0cf2adbf00b7"
      },
      "execution_count": 29,
      "outputs": [
        {
          "name": "stdout",
          "output_type": "stream",
          "text": [
            "Digite seu ano de ncimento:2008\n"
          ]
        },
        {
          "output_type": "execute_result",
          "data": {
            "text/plain": [
              "'2008'"
            ],
            "application/vnd.google.colaboratory.intrinsic+json": {
              "type": "string"
            }
          },
          "metadata": {},
          "execution_count": 29
        }
      ]
    },
    {
      "cell_type": "code",
      "source": [
        "idade = 2024 - ano_nasc\n",
        "idade"
      ],
      "metadata": {
        "colab": {
          "base_uri": "https://localhost:8080/"
        },
        "id": "PeyauRxrTfK_",
        "outputId": "44f6919e-db7f-434d-a682-6ceeb3828603"
      },
      "execution_count": 39,
      "outputs": [
        {
          "output_type": "execute_result",
          "data": {
            "text/plain": [
              "16"
            ]
          },
          "metadata": {},
          "execution_count": 39
        }
      ]
    },
    {
      "cell_type": "code",
      "source": [
        "type (ano_nasc)"
      ],
      "metadata": {
        "colab": {
          "base_uri": "https://localhost:8080/"
        },
        "id": "LC6-dhhEUSjS",
        "outputId": "6afbae1d-0950-4872-a14c-e1d3442b3344"
      },
      "execution_count": 36,
      "outputs": [
        {
          "output_type": "execute_result",
          "data": {
            "text/plain": [
              "int"
            ]
          },
          "metadata": {},
          "execution_count": 36
        }
      ]
    },
    {
      "cell_type": "code",
      "source": [
        "ano_nasc = int(ano_nasc)"
      ],
      "metadata": {
        "id": "ByfosR8tUlTu"
      },
      "execution_count": 34,
      "outputs": []
    },
    {
      "cell_type": "code",
      "source": [
        "type(ano_nasc)"
      ],
      "metadata": {
        "colab": {
          "base_uri": "https://localhost:8080/"
        },
        "id": "1Mw1Q2ccVQNz",
        "outputId": "ec0b3033-0d88-4c20-da51-d5809e8f727a"
      },
      "execution_count": 37,
      "outputs": [
        {
          "output_type": "execute_result",
          "data": {
            "text/plain": [
              "int"
            ]
          },
          "metadata": {},
          "execution_count": 37
        }
      ]
    },
    {
      "cell_type": "code",
      "source": [
        "idade= 2024 - ano_nasc\n",
        "idade"
      ],
      "metadata": {
        "colab": {
          "base_uri": "https://localhost:8080/"
        },
        "id": "afQ6wxCkVTpC",
        "outputId": "e13acf34-e1ac-46ff-a133-1d233ac9e53f"
      },
      "execution_count": 38,
      "outputs": [
        {
          "output_type": "execute_result",
          "data": {
            "text/plain": [
              "16"
            ]
          },
          "metadata": {},
          "execution_count": 38
        }
      ]
    },
    {
      "cell_type": "code",
      "source": [
        "x = 7\n",
        "# obtendo o resto da divisão do x por 2\n",
        "divisao_normal = x / 2\n",
        "resto = x % 2\n",
        "quociente = x // 2\n",
        "print(\"Divisão normal \", divisao_normal)\n",
        "print(\"Resto - mod % \",resto)\n",
        "print(\"Quociente - div // \", quociente)"
      ],
      "metadata": {
        "colab": {
          "base_uri": "https://localhost:8080/"
        },
        "id": "lOV5e5LbXQSD",
        "outputId": "d698314a-f492-4f6f-d6c1-e57e18d69116"
      },
      "execution_count": 40,
      "outputs": [
        {
          "output_type": "stream",
          "name": "stdout",
          "text": [
            "Divisão normal  3.5\n",
            "Resto - mod %  1\n",
            "Quociente - div //  3\n"
          ]
        }
      ]
    }
  ]
}